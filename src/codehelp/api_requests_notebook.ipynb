{
 "cells": [
  {
   "cell_type": "code",
   "execution_count": 1,
   "metadata": {},
   "outputs": [],
   "source": [
    "from codehelp.api_requests import get_access_token, submit_query, get_query, get_context, get_contexts, create_context, delete_context"
   ]
  },
  {
   "cell_type": "code",
   "execution_count": 2,
   "metadata": {},
   "outputs": [],
   "source": [
    "import os\n",
    "from dotenv import load_dotenv"
   ]
  },
  {
   "cell_type": "code",
   "execution_count": 3,
   "metadata": {},
   "outputs": [
    {
     "data": {
      "text/plain": [
       "True"
      ]
     },
     "execution_count": 3,
     "metadata": {},
     "output_type": "execute_result"
    }
   ],
   "source": [
    "load_dotenv()"
   ]
  },
  {
   "cell_type": "code",
   "execution_count": 4,
   "metadata": {},
   "outputs": [],
   "source": [
    "password = os.environ.get(\"ACCOUNT_PASSWORD\")\n",
    "token = get_access_token(\"ranamoeez\", password)"
   ]
  },
  {
   "cell_type": "code",
   "execution_count": null,
   "metadata": {},
   "outputs": [],
   "source": [
    "submit_query(access_token=token, code=\"def print(): yo\", error=\"IndentationError\", issue=\"Cant print stuff\", context=None)"
   ]
  },
  {
   "cell_type": "code",
   "execution_count": 13,
   "metadata": {},
   "outputs": [],
   "source": [
    "token = get_access_token(\"student1\", password)"
   ]
  },
  {
   "cell_type": "code",
   "execution_count": null,
   "metadata": {},
   "outputs": [],
   "source": [
    "submit_query(access_token=token, code=\"def print(): yo\", error=\"IndentationError\", issue=\"Cant print stuff\", context=None)"
   ]
  },
  {
   "cell_type": "code",
   "execution_count": 4,
   "metadata": {},
   "outputs": [
    {
     "name": "stdout",
     "output_type": "stream",
     "text": [
      "Context retreived by name: {'config': None, 'description': None, 'name': 'Writing and Compiling First Program', 'tools': 'C'}\n"
     ]
    }
   ],
   "source": [
    "context = get_context(token, \"Writing and Compiling First Program\")\n",
    "print(\"Context retreived by name:\", context)"
   ]
  },
  {
   "cell_type": "code",
   "execution_count": 3,
   "metadata": {},
   "outputs": [
    {
     "name": "stdout",
     "output_type": "stream",
     "text": [
      "Context retreived by name: {'error': 'Context not found'}\n"
     ]
    }
   ],
   "source": [
    "# Name comparison is case sensitive\n",
    "context = get_context(token, \"writing and compiling first program\")\n",
    "print(\"Context retreived by name:\", context)"
   ]
  },
  {
   "cell_type": "code",
   "execution_count": null,
   "metadata": {},
   "outputs": [],
   "source": [
    "allContexts = get_contexts(token)\n",
    "print(allContexts)"
   ]
  },
  {
   "cell_type": "code",
   "execution_count": 3,
   "metadata": {},
   "outputs": [
    {
     "name": "stdout",
     "output_type": "stream",
     "text": [
      "{'message': 'Context created successfully'}\n"
     ]
    }
   ],
   "source": [
    "new_context = create_context(token, \"new_context2\", {\"tools\": [\"python\", \"flask\"]})\n",
    "print(new_context)"
   ]
  },
  {
   "cell_type": "code",
   "execution_count": 5,
   "metadata": {},
   "outputs": [
    {
     "name": "stdout",
     "output_type": "stream",
     "text": [
      "{'error': 'Context already exists'}\n"
     ]
    }
   ],
   "source": [
    "new_context = create_context(token, \"new_context2\", {\"tools\": [\"C\", \"flask\"]})\n",
    "print(new_context)"
   ]
  },
  {
   "cell_type": "code",
   "execution_count": 8,
   "metadata": {},
   "outputs": [
    {
     "name": "stdout",
     "output_type": "stream",
     "text": [
      "{'message': 'Context created successfully'}\n"
     ]
    }
   ],
   "source": [
    "new_context = create_context(token, \"new_context\", {\"tools\": \"C\", \"details\": \"Student learning to use C\", \"avoid\": \"for loop\\r\\nwhile loop\"})\n",
    "print(new_context)"
   ]
  },
  {
   "cell_type": "code",
   "execution_count": 9,
   "metadata": {},
   "outputs": [
    {
     "name": "stdout",
     "output_type": "stream",
     "text": [
      "{'message': 'Context created successfully'}\n"
     ]
    }
   ],
   "source": [
    "new_context = create_context(token, \"new_context2\", {\"tools\": \"C\\r\\nPython\", \"details\": \"Student learning to use C\", \"avoid\": \"for loop\\r\\nwhile loop\"})\n",
    "print(new_context)"
   ]
  },
  {
   "cell_type": "code",
   "execution_count": 7,
   "metadata": {},
   "outputs": [
    {
     "name": "stdout",
     "output_type": "stream",
     "text": [
      "{'message': 'Context created successfully'}\n"
     ]
    }
   ],
   "source": [
    "context_to_be_deleted = create_context(token, \"new_context3\", {\"tools\": \"C\\r\\nPython\", \"details\": \"Student learning to use C\", \"avoid\": \"for loop\\r\\nwhile loop\"})\n",
    "print(context_to_be_deleted)"
   ]
  },
  {
   "cell_type": "code",
   "execution_count": 8,
   "metadata": {},
   "outputs": [
    {
     "name": "stdout",
     "output_type": "stream",
     "text": [
      "{'message': \"Context 'new_context3' deleted successfully\"}\n"
     ]
    }
   ],
   "source": [
    "deleted_context_message = delete_context(token, \"new_context3\")\n",
    "print(deleted_context_message)"
   ]
  },
  {
   "cell_type": "code",
   "execution_count": 14,
   "metadata": {},
   "outputs": [
    {
     "data": {
      "text/plain": [
       "<Response [200]>"
      ]
     },
     "execution_count": 14,
     "metadata": {},
     "output_type": "execute_result"
    }
   ],
   "source": [
    "code_message = r'''\n",
    "#include <stdio.h>\n",
    "int main(void) {\n",
    "    int i;\n",
    "    for(int i = 0; i < 3 ; i++ ) {\n",
    "        printf(\"Hello \");\n",
    "        printf(\"world!\\n\");\n",
    "    }\n",
    "    return 0;\n",
    "}\n",
    "'''\n",
    "# code_message = '#include <stdio.h>\\r\\nint main(void) {\\r\\n    int i;\\r\\n        for(int i = 0; i < 3 ; i++ ) {\\r\\n            printf(\"Hello \");\\r\\n            printf(\"world!\\n\");\\r\\n        }\\r\\n        int i = 2;\\r\\n        return 0;\\r\\n    }'\n",
    "error_message = \"error: redefinition of 'i'\"\n",
    "issue_message = \"Why does this not work. I can do the same logic in python and it works\"\n",
    "submit_query(token, code_message, error_message, issue_message, \"Repeating instructions with for loops\" )"
   ]
  },
  {
   "cell_type": "code",
   "execution_count": null,
   "metadata": {},
   "outputs": [],
   "source": []
  }
 ],
 "metadata": {
  "kernelspec": {
   "display_name": "cmoocenv",
   "language": "python",
   "name": "python3"
  },
  "language_info": {
   "codemirror_mode": {
    "name": "ipython",
    "version": 3
   },
   "file_extension": ".py",
   "mimetype": "text/x-python",
   "name": "python",
   "nbconvert_exporter": "python",
   "pygments_lexer": "ipython3",
   "version": "3.10.16"
  }
 },
 "nbformat": 4,
 "nbformat_minor": 2
}
