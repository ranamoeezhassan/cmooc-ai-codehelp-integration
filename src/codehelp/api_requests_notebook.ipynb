{
 "cells": [
  {
   "cell_type": "code",
   "execution_count": 1,
   "metadata": {},
   "outputs": [],
   "source": [
    "from codehelp.api_requests import get_access_token, submit_query, get_query, get_context, get_contexts, create_context, delete_context"
   ]
  },
  {
   "cell_type": "code",
   "execution_count": 2,
   "metadata": {},
   "outputs": [],
   "source": [
    "import os\n",
    "from dotenv import load_dotenv"
   ]
  },
  {
   "cell_type": "code",
   "execution_count": 3,
   "metadata": {},
   "outputs": [
    {
     "data": {
      "text/plain": [
       "True"
      ]
     },
     "execution_count": 3,
     "metadata": {},
     "output_type": "execute_result"
    }
   ],
   "source": [
    "load_dotenv()"
   ]
  },
  {
   "cell_type": "code",
   "execution_count": 5,
   "metadata": {},
   "outputs": [],
   "source": [
    "# password = os.environ.get(\"ACCOUNT_PASSWORD\")\n",
    "password = \"password\"\n",
    "\n",
    "token = get_access_token(\"ranamoeez\", password)"
   ]
  },
  {
   "cell_type": "code",
   "execution_count": null,
   "metadata": {},
   "outputs": [],
   "source": [
    "submit_query(access_token=token, code=\"def print(): yo\", error=\"IndentationError\", issue=\"Cant print stuff\", context=None)"
   ]
  },
  {
   "cell_type": "code",
   "execution_count": 10,
   "metadata": {},
   "outputs": [],
   "source": [
    "token = get_access_token(\"student1\", password)"
   ]
  },
  {
   "cell_type": "code",
   "execution_count": null,
   "metadata": {},
   "outputs": [],
   "source": [
    "submit_query(access_token=token, code=\"def print(): yo\", error=\"IndentationError\", issue=\"Cant print stuff\", context=None)"
   ]
  },
  {
   "cell_type": "code",
   "execution_count": 4,
   "metadata": {},
   "outputs": [
    {
     "name": "stdout",
     "output_type": "stream",
     "text": [
      "Context retreived by name: {'config': None, 'description': None, 'name': 'Writing and Compiling First Program', 'tools': 'C'}\n"
     ]
    }
   ],
   "source": [
    "context = get_context(token, \"Writing and Compiling First Program\")\n",
    "print(\"Context retreived by name:\", context)"
   ]
  },
  {
   "cell_type": "code",
   "execution_count": 3,
   "metadata": {},
   "outputs": [
    {
     "name": "stdout",
     "output_type": "stream",
     "text": [
      "Context retreived by name: {'error': 'Context not found'}\n"
     ]
    }
   ],
   "source": [
    "# Name comparison is case sensitive\n",
    "context = get_context(token, \"writing and compiling first program\")\n",
    "print(\"Context retreived by name:\", context)"
   ]
  },
  {
   "cell_type": "code",
   "execution_count": null,
   "metadata": {},
   "outputs": [],
   "source": [
    "allContexts = get_contexts(token)\n",
    "print(allContexts)"
   ]
  },
  {
   "cell_type": "code",
   "execution_count": 3,
   "metadata": {},
   "outputs": [
    {
     "name": "stdout",
     "output_type": "stream",
     "text": [
      "{'message': 'Context created successfully'}\n"
     ]
    }
   ],
   "source": [
    "new_context = create_context(token, \"new_context2\", {\"tools\": [\"python\", \"flask\"]})\n",
    "print(new_context)"
   ]
  },
  {
   "cell_type": "code",
   "execution_count": 5,
   "metadata": {},
   "outputs": [
    {
     "name": "stdout",
     "output_type": "stream",
     "text": [
      "{'error': 'Context already exists'}\n"
     ]
    }
   ],
   "source": [
    "new_context = create_context(token, \"new_context2\", {\"tools\": [\"C\", \"flask\"]})\n",
    "print(new_context)"
   ]
  },
  {
   "cell_type": "code",
   "execution_count": 5,
   "metadata": {},
   "outputs": [
    {
     "name": "stdout",
     "output_type": "stream",
     "text": [
      "{'message': 'Context created successfully'}\n"
     ]
    }
   ],
   "source": [
    "new_context = create_context(token, \"new_context\", {\"tools\": \"C\", \"details\": \"Student learning to use C\", \"avoid\": \"for loop\\r\\nwhile loop\"})\n",
    "print(new_context)"
   ]
  },
  {
   "cell_type": "code",
   "execution_count": 8,
   "metadata": {},
   "outputs": [
    {
     "name": "stdout",
     "output_type": "stream",
     "text": [
      "{'error': 'Context already exists'}\n"
     ]
    }
   ],
   "source": [
    "new_context = create_context(token, \"new_context2\", {\"tools\": \"C\\r\\nPython\", \"details\": \"Student learning to use C\", \"avoid\": \"for loop\\r\\nwhile loop\"})\n",
    "print(new_context)"
   ]
  },
  {
   "cell_type": "code",
   "execution_count": 9,
   "metadata": {},
   "outputs": [
    {
     "name": "stdout",
     "output_type": "stream",
     "text": [
      "{'error': 'Context already exists'}\n"
     ]
    }
   ],
   "source": [
    "context_to_be_deleted = create_context(token, \"new_context3\", {\"tools\": \"C\\r\\nPython\", \"details\": \"Student learning to use C\", \"avoid\": \"for loop\\r\\nwhile loop\"})\n",
    "print(context_to_be_deleted)"
   ]
  },
  {
   "cell_type": "code",
   "execution_count": 8,
   "metadata": {},
   "outputs": [
    {
     "name": "stdout",
     "output_type": "stream",
     "text": [
      "{'message': \"Context 'new_context3' deleted successfully\"}\n"
     ]
    }
   ],
   "source": [
    "deleted_context_message = delete_context(token, \"new_context3\")\n",
    "print(deleted_context_message)"
   ]
  },
  {
   "cell_type": "code",
   "execution_count": 10,
   "metadata": {},
   "outputs": [
    {
     "data": {
      "text/plain": [
       "<Response [200]>"
      ]
     },
     "execution_count": 10,
     "metadata": {},
     "output_type": "execute_result"
    }
   ],
   "source": [
    "code_message = r'''\n",
    "#include <stdio.h>\n",
    "int main(void) {\n",
    "    int i;\n",
    "    for(int i = 0; i < 3 ; i++ ) {\n",
    "        printf(\"Hello \");\n",
    "        printf(\"world!\\n\");\n",
    "    }\n",
    "    return 0;\n",
    "}\n",
    "'''\n",
    "# code_message = '#include <stdio.h>\\r\\nint main(void) {\\r\\n    int i;\\r\\n        for(int i = 0; i < 3 ; i++ ) {\\r\\n            printf(\"Hello \");\\r\\n            printf(\"world!\\n\");\\r\\n        }\\r\\n        int i = 2;\\r\\n        return 0;\\r\\n    }'\n",
    "error_message = \"error: redefinition of 'i'\"\n",
    "issue_message = \"Why does this not work. I can do the same logic in python and it works\"\n",
    "submit_query(token, code_message, error_message, issue_message, \"new_context3\" )"
   ]
  },
  {
   "cell_type": "code",
   "execution_count": 6,
   "metadata": {},
   "outputs": [
    {
     "data": {
      "text/plain": [
       "<Response [200]>"
      ]
     },
     "execution_count": 6,
     "metadata": {},
     "output_type": "execute_result"
    }
   ],
   "source": [
    "code_message = r'''\n",
    "#include <stdio.h>\n",
    "int main() {\n",
    "    int x;\n",
    "    printf(\"%d\\n\", x);\n",
    "    return 0;\n",
    "}\n",
    "'''\n",
    "error_message = \"Error: Undefined behavior\"\n",
    "issue_message = \"I thought variables would automatically be set to zero when I declare them.\"\n",
    "submit_query(token, code_message, error_message, issue_message, \"new_context\" )\n"
   ]
  },
  {
   "cell_type": "code",
   "execution_count": 7,
   "metadata": {},
   "outputs": [
    {
     "data": {
      "text/plain": [
       "<Response [200]>"
      ]
     },
     "execution_count": 7,
     "metadata": {},
     "output_type": "execute_result"
    }
   ],
   "source": [
    "code_message = r'''\n",
    "#include <stdio.h>\n",
    "int main() {\n",
    "    int *ptr = NULL;\n",
    "    *ptr = 10;\n",
    "    return 0;\n",
    "}\n",
    "'''\n",
    "error_message = \"Error: Segmentation fault\"\n",
    "issue_message = \"I don't understand why I can't just assign a value to the pointer directly.\"\n",
    "submit_query(token, code_message, error_message, issue_message, \"new_context\" )\n"
   ]
  },
  {
   "cell_type": "code",
   "execution_count": 8,
   "metadata": {},
   "outputs": [
    {
     "data": {
      "text/plain": [
       "<Response [200]>"
      ]
     },
     "execution_count": 8,
     "metadata": {},
     "output_type": "execute_result"
    }
   ],
   "source": [
    "code_message = r'''\n",
    "#include <stdio.h>\n",
    "int main() {\n",
    "    int a = 5;\n",
    "    if (a = 10) {\n",
    "        printf(\"True\\n\");\n",
    "    }\n",
    "    return 0;\n",
    "}\n",
    "'''\n",
    "error_message = \"Error: Logical error\"\n",
    "issue_message = \"I thought this would check if a is equal to 10, but it’s not working the way I expected.\"\n",
    "submit_query(token, code_message, error_message, issue_message, \"new_context\" )\n"
   ]
  },
  {
   "cell_type": "code",
   "execution_count": 10,
   "metadata": {},
   "outputs": [
    {
     "data": {
      "text/plain": [
       "<Response [200]>"
      ]
     },
     "execution_count": 10,
     "metadata": {},
     "output_type": "execute_result"
    }
   ],
   "source": [
    "code_message = r'''\n",
    "#include <stdio.h>\n",
    "int main() {\n",
    "    char *str = \"Hello\";\n",
    "    str[0] = 'h';\n",
    "    printf(\"%s\\n\", str);\n",
    "    return 0;\n",
    "}\n",
    "'''\n",
    "error_message = \"Error: Segmentation fault\"\n",
    "issue_message = \"Why do I get a segmentation fault when i try to modify the string literal\"\n",
    "submit_query(token, code_message, error_message, issue_message, \"new_context\" )\n"
   ]
  },
  {
   "cell_type": "code",
   "execution_count": 11,
   "metadata": {},
   "outputs": [
    {
     "data": {
      "text/plain": [
       "<Response [200]>"
      ]
     },
     "execution_count": 11,
     "metadata": {},
     "output_type": "execute_result"
    }
   ],
   "source": [
    "code_message = r'''\n",
    "#include <stdio.h>\n",
    "int main() {\n",
    "    int i = 0;\n",
    "    while (i < 5) {\n",
    "        printf(\"%d\\n\", i);\n",
    "    }\n",
    "    return 0;\n",
    "}\n",
    "'''\n",
    "error_message = \"Error: Logical error\"\n",
    "issue_message = \"I don’t get why the loop doesn’t stop after printing a few numbers.\"\n",
    "submit_query(token, code_message, error_message, issue_message, \"new_context\" )\n"
   ]
  },
  {
   "cell_type": "code",
   "execution_count": 14,
   "metadata": {},
   "outputs": [
    {
     "data": {
      "text/plain": [
       "<Response [200]>"
      ]
     },
     "execution_count": 14,
     "metadata": {},
     "output_type": "execute_result"
    }
   ],
   "source": [
    "code_message = r'''\n",
    "#include <stdio.h>\n",
    "int main() {\n",
    "    int a = 5;\n",
    "}\n",
    "'''\n",
    "issue_message = \"Why does the compiler give me a warning about undefined behavior?\"\n",
    "submit_query(token, code_message, \"\", issue_message, \"new_context\" )\n"
   ]
  },
  {
   "cell_type": "code",
   "execution_count": null,
   "metadata": {},
   "outputs": [
    {
     "data": {
      "text/plain": [
       "<Response [200]>"
      ]
     },
     "execution_count": 14,
     "metadata": {},
     "output_type": "execute_result"
    }
   ],
   "source": [
    "# 1. Testing Python programming without loops\n",
    "submit_query(\n",
    "    access_token=token,\n",
    "    code=\"def sum_list(numbers):\\n    total = 0\\n    for n in numbers:\\n        total += n\\n    return total\",\n",
    "    error=\"\",\n",
    "    issue=\"How can I sum a list without using loops?\",\n",
    "    task_instructions={\n",
    "        \"tools\": \"Python\",\n",
    "        \"details\": \"Write a function to sum all numbers in a list without using loops\",\n",
    "        \"avoid\": \"loops\\r\\nfor\\r\\nwhile\",\n",
    "        \"name\": \"recursive_sum\"\n",
    "    }\n",
    ")\n"
   ]
  },
  {
   "cell_type": "code",
   "execution_count": 15,
   "metadata": {},
   "outputs": [
    {
     "data": {
      "text/plain": [
       "<Response [200]>"
      ]
     },
     "execution_count": 15,
     "metadata": {},
     "output_type": "execute_result"
    }
   ],
   "source": [
    "# 2. Testing C programming with specific requirements\n",
    "submit_query(\n",
    "    access_token=token,\n",
    "    code=\"void reverse(int arr[]) {\\n    for(int i=0; i<len; i++) {\\n        // stuck here\\n    }\\n}\",\n",
    "    error=\"\",\n",
    "    issue=\"How to reverse array without loops?\",\n",
    "    task_instructions={\n",
    "        \"tools\": \"C\",\n",
    "        \"details\": \"Write a function to reverse an array in-place using recursion\",\n",
    "        \"avoid\": \"Do not use loops or additional arrays\",\n",
    "        \"name\": \"array_reverse\"\n",
    "    }\n",
    ")"
   ]
  },
  {
   "cell_type": "code",
   "execution_count": 16,
   "metadata": {},
   "outputs": [
    {
     "data": {
      "text/plain": [
       "<Response [200]>"
      ]
     },
     "execution_count": 16,
     "metadata": {},
     "output_type": "execute_result"
    }
   ],
   "source": [
    "# 3. Mixed language question about algorithms\n",
    "submit_query(\n",
    "    access_token=token,\n",
    "    code=\"def binary_search(arr, target):\\n    pass\",\n",
    "    error=\"\",\n",
    "    issue=\"How to implement binary search in both C and Python?\",\n",
    "    task_instructions={\n",
    "        \"tools\": \"C\\r\\nPython\",\n",
    "        \"details\": \"Implement binary search algorithm that works for sorted arrays\",\n",
    "        \"avoid\": \"Do not use built-in search functions or linear search\",\n",
    "        \"name\": \"binary_search_implementation\"\n",
    "    }\n",
    ")"
   ]
  },
  {
   "cell_type": "code",
   "execution_count": 17,
   "metadata": {},
   "outputs": [
    {
     "data": {
      "text/plain": [
       "<Response [200]>"
      ]
     },
     "execution_count": 17,
     "metadata": {},
     "output_type": "execute_result"
    }
   ],
   "source": [
    "# 4. Debugging specific case\n",
    "submit_query(\n",
    "    access_token=token,\n",
    "    code=\"int main() {\\n    int* ptr;\\n    *ptr = 5;\\n    return 0;\\n}\",\n",
    "    error=\"Segmentation fault\",\n",
    "    issue=\"Why am I getting a segmentation fault?\",\n",
    "    task_instructions={\n",
    "        \"tools\": [\"C\"],\n",
    "        \"details\": \"Debug a program using pointers and memory allocation\",\n",
    "        \"avoid\": \"Do not use global variables or arrays\",\n",
    "        \"name\": \"pointer_debugging\"\n",
    "    }\n",
    ")"
   ]
  },
  {
   "cell_type": "code",
   "execution_count": null,
   "metadata": {},
   "outputs": [],
   "source": []
  }
 ],
 "metadata": {
  "kernelspec": {
   "display_name": "cmoocenv",
   "language": "python",
   "name": "python3"
  },
  "language_info": {
   "codemirror_mode": {
    "name": "ipython",
    "version": 3
   },
   "file_extension": ".py",
   "mimetype": "text/x-python",
   "name": "python",
   "nbconvert_exporter": "python",
   "pygments_lexer": "ipython3",
   "version": "3.10.16"
  }
 },
 "nbformat": 4,
 "nbformat_minor": 2
}
